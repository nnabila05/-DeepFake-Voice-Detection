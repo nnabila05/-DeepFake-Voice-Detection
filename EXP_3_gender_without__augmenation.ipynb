{
  "nbformat": 4,
  "nbformat_minor": 0,
  "metadata": {
    "colab": {
      "provenance": [],
      "machine_shape": "hm",
      "gpuType": "T4"
    },
    "kernelspec": {
      "name": "python3",
      "display_name": "Python 3"
    },
    "language_info": {
      "name": "python"
    },
    "accelerator": "GPU"
  },
  "cells": [
    {
      "cell_type": "code",
      "execution_count": null,
      "metadata": {
        "colab": {
          "base_uri": "https://localhost:8080/"
        },
        "id": "oroZ25DrEO2_",
        "outputId": "326e10bd-d13b-456b-a569-46a368272bfc"
      },
      "outputs": [
        {
          "output_type": "stream",
          "name": "stdout",
          "text": [
            "Mounted at /content/drive\n"
          ]
        }
      ],
      "source": [
        "\n",
        "from google.colab import drive\n",
        "drive.mount('/content/drive')"
      ]
    },
    {
      "cell_type": "code",
      "source": [
        "import librosa\n",
        "import matplotlib.pyplot as plt\n",
        "import numpy as np\n",
        "import os\n",
        "import IPython.display as ipd\n",
        "import librosa.display\n",
        "import pandas as pd\n",
        "import soundfile as sf\n",
        "from pathlib import Path\n",
        "from sklearn.model_selection import train_test_split\n",
        "from sklearn.feature_selection import SelectKBest\n",
        "from sklearn.feature_selection import chi2\n",
        "from sklearn.preprocessing import MinMaxScaler\n",
        "from sklearn.ensemble import ExtraTreesClassifier,RandomForestClassifier\n",
        "from sklearn.decomposition import PCA\n",
        "from sklearn.metrics import accuracy_score, precision_score, recall_score, f1_score, confusion_matrix,matthews_corrcoef,roc_auc_score,classification_report\n",
        "\n",
        "from sklearn.model_selection import GridSearchCV\n",
        "from xgboost import XGBClassifier\n",
        "from sklearn.discriminant_analysis import LinearDiscriminantAnalysis, QuadraticDiscriminantAnalysis"
      ],
      "metadata": {
        "id": "xtG8lXGyES4h"
      },
      "execution_count": null,
      "outputs": []
    },
    {
      "cell_type": "code",
      "source": [
        "\n",
        "# directories\n",
        "real_male_dir = '/content/drive/My Drive/TMU MSC/MRP/AUDIO/REAL/male'\n",
        "fake_male_dir = '/content/drive/My Drive/TMU MSC/MRP/AUDIO/FAKE/male'\n",
        "\n",
        "# Function to load audio files and convert them to a consistent sample rate\n",
        "def load_audio_files(directory, sample_rate=22050):\n",
        "    audio_files = []\n",
        "    for filename in os.listdir(directory):\n",
        "        if filename.endswith('.wav'):\n",
        "            path = os.path.join(directory, filename)\n",
        "            audio, sr = librosa.load(path, sr=sample_rate)\n",
        "            audio_files.append(audio)\n",
        "    return audio_files\n",
        "\n",
        "real_male_audios = load_audio_files(real_male_dir)\n",
        "fake_male_audios = load_audio_files(fake_male_dir)"
      ],
      "metadata": {
        "id": "KbIPn1XwEU95"
      },
      "execution_count": null,
      "outputs": []
    },
    {
      "cell_type": "code",
      "source": [
        "real_female_dir = '/content/drive/My Drive/TMU MSC/MRP/AUDIO/REAL/female'\n",
        "fake_female_dir = '/content/drive/My Drive/TMU MSC/MRP/AUDIO/FAKE/female'\n",
        "real_female_audios = load_audio_files(real_female_dir)\n",
        "fake_female_audios = load_audio_files(fake_female_dir)"
      ],
      "metadata": {
        "id": "puCWlwWZEpx-"
      },
      "execution_count": null,
      "outputs": []
    },
    {
      "cell_type": "code",
      "source": [
        "print(len(real_male_audios))\n",
        "print(len(fake_male_audios))\n",
        "print(len(real_female_audios))\n",
        "print(len(fake_female_audios))"
      ],
      "metadata": {
        "colab": {
          "base_uri": "https://localhost:8080/"
        },
        "id": "vjFszyBAE17Y",
        "outputId": "905bce1f-a5e5-41f3-efcd-b2108aac09d8"
      },
      "execution_count": null,
      "outputs": [
        {
          "output_type": "stream",
          "name": "stdout",
          "text": [
            "6\n",
            "42\n",
            "2\n",
            "14\n"
          ]
        }
      ]
    },
    {
      "cell_type": "code",
      "source": [
        "def slice_audio(audio, window_length=1, sr=22050):\n",
        "    # Window length = 1 sec\n",
        "    sample_length = window_length * sr\n",
        "    return [audio[i:i+sample_length] for i in range(0, len(audio), sample_length) if len(audio[i:i+sample_length]) == sample_length]\n",
        "\n",
        "# Slicing real and fake audio samples\n",
        "real_male_slices = [slice for audio in real_male_audios for slice in slice_audio(audio, window_length=1)]\n",
        "fake_male_slices = [slice for audio in fake_male_audios for slice in slice_audio(audio, window_length=1)]\n",
        "real_female_slices = [slice for audio in real_female_audios for slice in slice_audio(audio, window_length=1)]\n",
        "fake_female_slices = [slice for audio in fake_female_audios for slice in slice_audio(audio, window_length=1)]"
      ],
      "metadata": {
        "id": "KlY2ExgZE5Bm"
      },
      "execution_count": null,
      "outputs": []
    },
    {
      "cell_type": "code",
      "source": [
        "print(len(real_male_slices))\n",
        "print(len(fake_male_slices))\n",
        "print(len(real_female_slices))\n",
        "print(len(fake_female_slices))\n",
        "plt.bar(['Real Male', 'Fake Male', 'Real Female', 'Fake Female'], [len(real_male_slices), len(fake_male_slices), len(real_female_slices), len(fake_female_slices)])"
      ],
      "metadata": {
        "colab": {
          "base_uri": "https://localhost:8080/"
        },
        "id": "S1YoVSwwFmKq",
        "outputId": "7929e2ac-2fec-46ec-8936-bbc6a889a0ae"
      },
      "execution_count": null,
      "outputs": [
        {
          "output_type": "stream",
          "name": "stdout",
          "text": [
            "3063\n",
            "19389\n",
            "679\n",
            "6805\n"
          ]
        },
        {
          "output_type": "execute_result",
          "data": {
            "text/plain": [
              "<BarContainer object of 4 artists>"
            ]
          },
          "metadata": {},
          "execution_count": 8
        },
        {
          "output_type": "display_data",
          "data": {
            "text/plain": [
              "<Figure size 640x480 with 1 Axes>"
            ],
            "image/png": "[encoded data removed]"
          },
          "metadata": {}
        }
      ]
    },
    {
      "cell_type": "code",
      "source": [
        "#feature extraction and dataframe creation\n",
        "sr = 22050\n",
        "def extract_audio_features(files):\n",
        "    features_list = []\n",
        "\n",
        "    # Iterate over all files\n",
        "    for y in files:\n",
        "        # Extract features\n",
        "        # Chromagram\n",
        "        chroma_stft = librosa.feature.chroma_stft(y=y, sr=sr).mean()\n",
        "\n",
        "        # Root Mean Square Energy\n",
        "        rms = librosa.feature.rms(y=y).mean()\n",
        "\n",
        "        # Spectral Centroid\n",
        "        spectral_centroid = librosa.feature.spectral_centroid(y=y, sr=sr).mean()\n",
        "\n",
        "        # Spectral Bandwidth\n",
        "        spectral_bandwidth = librosa.feature.spectral_bandwidth(y=y, sr=sr).mean()\n",
        "\n",
        "        # Spectral Rolloff\n",
        "        rolloff = librosa.feature.spectral_rolloff(y=y, sr=sr).mean()\n",
        "\n",
        "        # Zero Crossing Rate\n",
        "        zero_crossing_rate = librosa.feature.zero_crossing_rate(y).mean()\n",
        "\n",
        "        # Mel-Frequency Cepstral Coefficients (MFCCs)\n",
        "        mfccs = librosa.feature.mfcc(y=y, sr=sr, n_mfcc=20).mean(axis=1)\n",
        "\n",
        "        # Spectral Contrast\n",
        "        spectral_contrast = librosa.feature.spectral_contrast(y=y, sr=sr).mean()\n",
        "\n",
        "        # Concatenate features as values for dataframe\n",
        "        features = np.hstack((\n",
        "            chroma_stft, rms, spectral_centroid, spectral_bandwidth, rolloff, zero_crossing_rate,\n",
        "            mfccs, spectral_contrast\n",
        "        ))\n",
        "\n",
        "        features_list.append(features)\n",
        "\n",
        "    # Create  DataFrame\n",
        "    feature_names = [\n",
        "        'chroma_stft', 'rms', 'spectral_centroid', 'spectral_bandwidth', 'rolloff', 'zero_crossing_rate'\n",
        "    ] + [f'mfcc{i+1}' for i in range(mfccs.shape[0])] + ['spectral_contrast']\n",
        "\n",
        "    df = pd.DataFrame(features_list, columns=feature_names)\n",
        "\n",
        "    return df\n",
        "\n",
        "##real +aumented audio features\n",
        "features__male_real = extract_audio_features(real_male_slices)\n",
        "features__male_fake = extract_audio_features(fake_male_slices)\n",
        "features__female_real = extract_audio_features(real_female_slices)\n",
        "features__female_fake = extract_audio_features(fake_female_slices)\n"
      ],
      "metadata": {
        "id": "IOGX2G0oFqgt"
      },
      "execution_count": null,
      "outputs": []
    },
    {
      "cell_type": "code",
      "source": [
        "print(features__male_real.shape)\n",
        "print(features__male_fake.shape)\n",
        "print(features__female_real.shape)\n",
        "print(features__female_fake.shape)"
      ],
      "metadata": {
        "colab": {
          "base_uri": "https://localhost:8080/"
        },
        "id": "v7kUKZ8oGCjf",
        "outputId": "8b613736-2d27-498d-8591-9e0db9e85301"
      },
      "execution_count": null,
      "outputs": [
        {
          "output_type": "stream",
          "name": "stdout",
          "text": [
            "(3063, 27)\n",
            "(19389, 27)\n",
            "(679, 27)\n",
            "(6805, 27)\n"
          ]
        }
      ]
    },
    {
      "cell_type": "code",
      "source": [
        "features__female_real[\"gender\"] = 1\n",
        "features__female_fake[\"gender\"] =1\n",
        "features__male_real[\"gender\"] = 0\n",
        "features__male_fake[\"gender\"] =0\n",
        "features__female_real[\"label\"] = 1\n",
        "features__female_fake[\"label\"] =0\n",
        "features__male_real[\"label\"] = 0\n",
        "features__male_fake[\"label\"] =0\n",
        "final_df = pd.concat([features__female_real,features__female_fake,features__male_real,features__male_fake],axis=0)\n",
        "print(final_df.shape)"
      ],
      "metadata": {
        "colab": {
          "base_uri": "https://localhost:8080/"
        },
        "id": "lKtePYTNGD4Q",
        "outputId": "e832d510-4a2e-498d-cf87-0eecfda36c85"
      },
      "execution_count": null,
      "outputs": [
        {
          "output_type": "stream",
          "name": "stdout",
          "text": [
            "(29936, 29)\n"
          ]
        }
      ]
    },
    {
      "cell_type": "code",
      "source": [
        "final_df.label.value_counts()"
      ],
      "metadata": {
        "colab": {
          "base_uri": "https://localhost:8080/"
        },
        "id": "X9ZWkwvnGzPe",
        "outputId": "2c6f9c1c-339a-42c2-9c9b-300156cc4f7c"
      },
      "execution_count": null,
      "outputs": [
        {
          "output_type": "execute_result",
          "data": {
            "text/plain": [
              "label\n",
              "0    29257\n",
              "1      679\n",
              "Name: count, dtype: int64"
            ]
          },
          "metadata": {},
          "execution_count": 12
        }
      ]
    },
    {
      "cell_type": "code",
      "source": [
        "#splitting 80% data for training and rest 20 % for validation and testing\n",
        "train_df, temp_df = train_test_split(final_df, test_size=0.20, random_state=42)\n",
        "val_df, test_df = train_test_split(temp_df, test_size=0.5, random_state=42)"
      ],
      "metadata": {
        "id": "ScmWyEStG2mE"
      },
      "execution_count": null,
      "outputs": []
    },
    {
      "cell_type": "code",
      "source": [
        "#splitting in to independent and dependent variables\n",
        "X = train_df.drop('label', axis=1)\n",
        "y = train_df['label']\n",
        "print(X.head())\n",
        "print(y.head())"
      ],
      "metadata": {
        "colab": {
          "base_uri": "https://localhost:8080/"
        },
        "id": "EE4nBZHtG9pX",
        "outputId": "041f5742-43e4-4879-f4e8-7cef0421d1ae"
      },
      "execution_count": null,
      "outputs": [
        {
          "output_type": "stream",
          "name": "stdout",
          "text": [
            "       chroma_stft       rms  spectral_centroid  spectral_bandwidth  \\\n",
            "6746      0.346965  0.068513        2079.270794         2428.633851   \n",
            "6384      0.435346  0.013845        2810.256159         2162.900973   \n",
            "19250     0.304455  0.065596        1689.920848         1866.188541   \n",
            "17985     0.376733  0.058086        1704.068308         1736.019716   \n",
            "743       0.430400  0.049233        2465.123441         2266.360641   \n",
            "\n",
            "           rolloff  zero_crossing_rate       mfcc1       mfcc2      mfcc3  \\\n",
            "6746   3646.452193            0.099332 -203.317490  109.013107  13.222236   \n",
            "6384   4900.761275            0.182573 -311.704376   48.360550 -68.372871   \n",
            "19250  2895.237038            0.089145 -262.021515  123.332146  -9.880823   \n",
            "17985  3022.478693            0.088201 -244.245987  138.857651 -26.246296   \n",
            "743    4726.048695            0.121859 -260.297791   93.526131  -1.342766   \n",
            "\n",
            "           mfcc4  ...     mfcc13     mfcc14     mfcc15    mfcc16    mfcc17  \\\n",
            "6746    8.077686  ...  -5.763774   6.239040   4.581104  1.573470 -4.389967   \n",
            "6384  -22.640944  ... -10.339418 -12.093581 -10.992846 -1.993847 -6.515477   \n",
            "19250   1.958969  ...  -3.411968  -3.878815  -3.642223 -3.007069 -9.282780   \n",
            "17985  -2.752309  ...  -8.476999  -6.201176 -11.030693 -3.406334 -6.138471   \n",
            "743    22.651728  ...   0.188816   6.325757   4.169449  4.247354 -2.838268   \n",
            "\n",
            "         mfcc18    mfcc19    mfcc20  spectral_contrast  gender  \n",
            "6746  -2.091403 -5.984158 -1.946787          21.341596       0  \n",
            "6384  -6.901080 -5.713207  3.673920          19.866011       1  \n",
            "19250 -7.796222 -9.891200 -5.097679          23.098530       0  \n",
            "17985 -2.965884 -0.907632 -3.373047          24.790518       0  \n",
            "743    1.343283 -2.095892  1.476465          21.291483       0  \n",
            "\n",
            "[5 rows x 28 columns]\n",
            "6746     0\n",
            "6384     0\n",
            "19250    0\n",
            "17985    0\n",
            "743      0\n",
            "Name: label, dtype: int64\n"
          ]
        }
      ]
    },
    {
      "cell_type": "code",
      "source": [
        "X_val = val_df.drop(columns=['label'])\n",
        "y_val = val_df['label']"
      ],
      "metadata": {
        "id": "n3ClZNDlH8En"
      },
      "execution_count": null,
      "outputs": []
    },
    {
      "cell_type": "code",
      "source": [
        "X_val['gender'].value_counts()"
      ],
      "metadata": {
        "colab": {
          "base_uri": "https://localhost:8080/"
        },
        "id": "0NIMURPdF0PR",
        "outputId": "e702bc17-b44b-4228-ac0b-d2aa59637d99"
      },
      "execution_count": null,
      "outputs": [
        {
          "output_type": "execute_result",
          "data": {
            "text/plain": [
              "gender\n",
              "0    2278\n",
              "1     716\n",
              "Name: count, dtype: int64"
            ]
          },
          "metadata": {},
          "execution_count": 16
        }
      ]
    },
    {
      "cell_type": "code",
      "source": [
        "random_forest = RandomForestClassifier(max_depth=None, n_estimators=200, random_state=42)\n",
        "xgboost = XGBClassifier(learning_rate=0.2, max_depth=10, n_estimators=200, random_state=42)\n",
        "lda = LinearDiscriminantAnalysis(solver='svd')\n",
        "qda = QuadraticDiscriminantAnalysis(reg_param=0.0)\n"
      ],
      "metadata": {
        "id": "Ot_Om8BrH-L9"
      },
      "execution_count": null,
      "outputs": []
    },
    {
      "cell_type": "code",
      "source": [
        "random_forest.fit(X, y)\n",
        "xgboost.fit(X, y)\n",
        "lda.fit(X, y)\n",
        "qda.fit(X, y)"
      ],
      "metadata": {
        "colab": {
          "base_uri": "https://localhost:8080/",
          "height": 110
        },
        "id": "WyWl2Gl3IIko",
        "outputId": "4596ee02-f382-4793-f84f-1b34055bd604"
      },
      "execution_count": null,
      "outputs": [
        {
          "output_type": "stream",
          "name": "stderr",
          "text": [
            "/usr/local/lib/python3.10/dist-packages/sklearn/discriminant_analysis.py:926: UserWarning: Variables are collinear\n",
            "  warnings.warn(\"Variables are collinear\")\n"
          ]
        },
        {
          "output_type": "execute_result",
          "data": {
            "text/plain": [
              "QuadraticDiscriminantAnalysis()"
            ],
            "text/html": [
              "<style>#sk-container-id-1 {color: black;background-color: white;}#sk-container-id-1 pre{padding: 0;}#sk-container-id-1 div.sk-toggleable {background-color: white;}#sk-container-id-1 label.sk-toggleable__label {cursor: pointer;display: block;width: 100%;margin-bottom: 0;padding: 0.3em;box-sizing: border-box;text-align: center;}#sk-container-id-1 label.sk-toggleable__label-arrow:before {content: \"▸\";float: left;margin-right: 0.25em;color: #696969;}#sk-container-id-1 label.sk-toggleable__label-arrow:hover:before {color: black;}#sk-container-id-1 div.sk-estimator:hover label.sk-toggleable__label-arrow:before {color: black;}#sk-container-id-1 div.sk-toggleable__content {max-height: 0;max-width: 0;overflow: hidden;text-align: left;background-color: #f0f8ff;}#sk-container-id-1 div.sk-toggleable__content pre {margin: 0.2em;color: black;border-radius: 0.25em;background-color: #f0f8ff;}#sk-container-id-1 input.sk-toggleable__control:checked~div.sk-toggleable__content {max-height: 200px;max-width: 100%;overflow: auto;}#sk-container-id-1 input.sk-toggleable__control:checked~label.sk-toggleable__label-arrow:before {content: \"▾\";}#sk-container-id-1 div.sk-estimator input.sk-toggleable__control:checked~label.sk-toggleable__label {background-color: #d4ebff;}#sk-container-id-1 div.sk-label input.sk-toggleable__control:checked~label.sk-toggleable__label {background-color: #d4ebff;}#sk-container-id-1 input.sk-hidden--visually {border: 0;clip: rect(1px 1px 1px 1px);clip: rect(1px, 1px, 1px, 1px);height: 1px;margin: -1px;overflow: hidden;padding: 0;position: absolute;width: 1px;}#sk-container-id-1 div.sk-estimator {font-family: monospace;background-color: #f0f8ff;border: 1px dotted black;border-radius: 0.25em;box-sizing: border-box;margin-bottom: 0.5em;}#sk-container-id-1 div.sk-estimator:hover {background-color: #d4ebff;}#sk-container-id-1 div.sk-parallel-item::after {content: \"\";width: 100%;border-bottom: 1px solid gray;flex-grow: 1;}#sk-container-id-1 div.sk-label:hover label.sk-toggleable__label {background-color: #d4ebff;}#sk-container-id-1 div.sk-serial::before {content: \"\";position: absolute;border-left: 1px solid gray;box-sizing: border-box;top: 0;bottom: 0;left: 50%;z-index: 0;}#sk-container-id-1 div.sk-serial {display: flex;flex-direction: column;align-items: center;background-color: white;padding-right: 0.2em;padding-left: 0.2em;position: relative;}#sk-container-id-1 div.sk-item {position: relative;z-index: 1;}#sk-container-id-1 div.sk-parallel {display: flex;align-items: stretch;justify-content: center;background-color: white;position: relative;}#sk-container-id-1 div.sk-item::before, #sk-container-id-1 div.sk-parallel-item::before {content: \"\";position: absolute;border-left: 1px solid gray;box-sizing: border-box;top: 0;bottom: 0;left: 50%;z-index: -1;}#sk-container-id-1 div.sk-parallel-item {display: flex;flex-direction: column;z-index: 1;position: relative;background-color: white;}#sk-container-id-1 div.sk-parallel-item:first-child::after {align-self: flex-end;width: 50%;}#sk-container-id-1 div.sk-parallel-item:last-child::after {align-self: flex-start;width: 50%;}#sk-container-id-1 div.sk-parallel-item:only-child::after {width: 0;}#sk-container-id-1 div.sk-dashed-wrapped {border: 1px dashed gray;margin: 0 0.4em 0.5em 0.4em;box-sizing: border-box;padding-bottom: 0.4em;background-color: white;}#sk-container-id-1 div.sk-label label {font-family: monospace;font-weight: bold;display: inline-block;line-height: 1.2em;}#sk-container-id-1 div.sk-label-container {text-align: center;}#sk-container-id-1 div.sk-container {/* jupyter's `normalize.less` sets `[hidden] { display: none; }` but bootstrap.min.css set `[hidden] { display: none !important; }` so we also need the `!important` here to be able to override the default hidden behavior on the sphinx rendered scikit-learn.org. See: https://github.com/scikit-learn/scikit-learn/issues/21755 */display: inline-block !important;position: relative;}#sk-container-id-1 div.sk-text-repr-fallback {display: none;}</style><div id=\"sk-container-id-1\" class=\"sk-top-container\"><div class=\"sk-text-repr-fallback\"><pre>QuadraticDiscriminantAnalysis()</pre><b>In a Jupyter environment, please rerun this cell to show the HTML representation or trust the notebook. <br />On GitHub, the HTML representation is unable to render, please try loading this page with nbviewer.org.</b></div><div class=\"sk-container\" hidden><div class=\"sk-item\"><div class=\"sk-estimator sk-toggleable\"><input class=\"sk-toggleable__control sk-hidden--visually\" id=\"sk-estimator-id-1\" type=\"checkbox\" checked><label for=\"sk-estimator-id-1\" class=\"sk-toggleable__label sk-toggleable__label-arrow\">QuadraticDiscriminantAnalysis</label><div class=\"sk-toggleable__content\"><pre>QuadraticDiscriminantAnalysis()</pre></div></div></div></div></div>"
            ]
          },
          "metadata": {},
          "execution_count": 18
        }
      ]
    },
    {
      "cell_type": "code",
      "source": [
        "# Make predictions on validation set\n",
        "y_val_pred_rf = random_forest.predict(X_val)\n",
        "y_val_pred_xgb = xgboost.predict(X_val)\n",
        "y_val_pred_lda = lda.predict(X_val)\n",
        "y_val_pred_qda = qda.predict(X_val)\n",
        "\n",
        "# Classification report for Random Forest\n",
        "print(\"Random Forest:\")\n",
        "print(classification_report(y_val, y_val_pred_rf))\n",
        "\n",
        "# Classification report for XGBoost\n",
        "print(\"XGBoost:\")\n",
        "print(classification_report(y_val, y_val_pred_xgb))\n",
        "\n",
        "# Classification report for LDA\n",
        "print(\"LDA:\")\n",
        "print(classification_report(y_val, y_val_pred_lda))\n",
        "\n",
        "# Classification report for QDA\n",
        "print(\"QDA:\")\n",
        "print(classification_report(y_val, y_val_pred_qda))"
      ],
      "metadata": {
        "colab": {
          "base_uri": "https://localhost:8080/"
        },
        "id": "YZh5BDcOIg4J",
        "outputId": "692fb3ed-1cbe-4e64-f98c-3f23b78b9f64"
      },
      "execution_count": null,
      "outputs": [
        {
          "output_type": "stream",
          "name": "stdout",
          "text": [
            "Random Forest:\n",
            "              precision    recall  f1-score   support\n",
            "\n",
            "           0       0.99      1.00      1.00      2937\n",
            "           1       1.00      0.65      0.79        57\n",
            "\n",
            "    accuracy                           0.99      2994\n",
            "   macro avg       1.00      0.82      0.89      2994\n",
            "weighted avg       0.99      0.99      0.99      2994\n",
            "\n",
            "XGBoost:\n",
            "              precision    recall  f1-score   support\n",
            "\n",
            "           0       1.00      1.00      1.00      2937\n",
            "           1       0.88      0.88      0.88        57\n",
            "\n",
            "    accuracy                           1.00      2994\n",
            "   macro avg       0.94      0.94      0.94      2994\n",
            "weighted avg       1.00      1.00      1.00      2994\n",
            "\n",
            "LDA:\n",
            "              precision    recall  f1-score   support\n",
            "\n",
            "           0       1.00      1.00      1.00      2937\n",
            "           1       0.78      0.86      0.82        57\n",
            "\n",
            "    accuracy                           0.99      2994\n",
            "   macro avg       0.89      0.93      0.91      2994\n",
            "weighted avg       0.99      0.99      0.99      2994\n",
            "\n",
            "QDA:\n",
            "              precision    recall  f1-score   support\n",
            "\n",
            "           0       1.00      0.93      0.96      2937\n",
            "           1       0.21      1.00      0.35        57\n",
            "\n",
            "    accuracy                           0.93      2994\n",
            "   macro avg       0.60      0.96      0.65      2994\n",
            "weighted avg       0.98      0.93      0.95      2994\n",
            "\n"
          ]
        }
      ]
    },
    {
      "cell_type": "code",
      "source": [
        "# Analyze misclassifications for each gender\n",
        "val_df['predicted_rf'] = y_val_pred_rf\n",
        "val_df['predicted_xgb'] = y_val_pred_xgb\n",
        "val_df['predicted_lda'] = y_val_pred_lda\n",
        "val_df['predicted_qda'] = y_val_pred_qda"
      ],
      "metadata": {
        "id": "Z0zBuOLWILIr"
      },
      "execution_count": null,
      "outputs": []
    },
    {
      "cell_type": "code",
      "source": [
        "# Misclassified incidents\n",
        "misclassified_rf = val_df[val_df['label'] != val_df['predicted_rf']]\n",
        "misclassified_xgb = val_df[val_df['label'] != val_df['predicted_xgb']]\n",
        "misclassified_lda = val_df[val_df['label'] != val_df['predicted_lda']]\n",
        "misclassified_qda = val_df[val_df['label'] != val_df['predicted_qda']]\n",
        "\n",
        "# Count misclassifications by gender\n",
        "misclassified_by_gender_rf = misclassified_rf['gender'].value_counts()\n",
        "misclassified_by_gender_xgb = misclassified_xgb['gender'].value_counts()\n",
        "misclassified_by_gender_lda = misclassified_lda['gender'].value_counts()\n",
        "misclassified_by_gender_qda = misclassified_qda['gender'].value_counts()\n",
        "\n",
        "print(\"Misclassifications by Gender for Random Forest:\")\n",
        "print(misclassified_by_gender_rf)\n",
        "\n",
        "print(\"Misclassifications by Gender for XGBoost:\")\n",
        "print(misclassified_by_gender_xgb)\n",
        "\n",
        "print(\"Misclassifications by Gender for LDA:\")\n",
        "print(misclassified_by_gender_lda)\n",
        "\n",
        "print(\"Misclassifications by Gender for QDA:\")\n",
        "print(misclassified_by_gender_qda)"
      ],
      "metadata": {
        "colab": {
          "base_uri": "https://localhost:8080/"
        },
        "id": "AZ-MEFibIirs",
        "outputId": "e3f67048-e011-4734-9e0d-77faadbcd9bc"
      },
      "execution_count": null,
      "outputs": [
        {
          "output_type": "stream",
          "name": "stdout",
          "text": [
            "Misclassifications by Gender for Random Forest:\n",
            "gender\n",
            "1    20\n",
            "Name: count, dtype: int64\n",
            "Misclassifications by Gender for XGBoost:\n",
            "gender\n",
            "1    14\n",
            "Name: count, dtype: int64\n",
            "Misclassifications by Gender for LDA:\n",
            "gender\n",
            "1    21\n",
            "0     1\n",
            "Name: count, dtype: int64\n",
            "Misclassifications by Gender for QDA:\n",
            "gender\n",
            "1    215\n",
            "Name: count, dtype: int64\n"
          ]
        }
      ]
    },
    {
      "cell_type": "code",
      "source": [
        "misclassified_df = pd.DataFrame({\n",
        "    'Random Forest': misclassified_by_gender_rf,\n",
        "    'XGBoost': misclassified_by_gender_xgb,\n",
        "    'LDA': misclassified_by_gender_lda,\n",
        "    'QDA': misclassified_by_gender_qda\n",
        "})\n",
        "\n",
        "# Plotting the combined misclassification data\n",
        "ax = misclassified_df.plot(kind='bar', figsize=(12, 8))\n",
        "plt.title('Misclassifications by Gender for Different Models')\n",
        "plt.xlabel('Gender')\n",
        "plt.ylabel('Count')\n",
        "plt.xticks(rotation=0)\n",
        "plt.legend(title='Model')\n",
        "plt.tight_layout()\n",
        "plt.show()"
      ],
      "metadata": {
        "colab": {
          "base_uri": "https://localhost:8080/",
          "height": 827
        },
        "id": "bYTNPxObKvjN",
        "outputId": "12cc375c-518c-4aab-9fe8-9c8f5bf0d572"
      },
      "execution_count": null,
      "outputs": [
        {
          "output_type": "display_data",
          "data": {
            "text/plain": [
              "<Figure size 1200x800 with 1 Axes>"
            ],
            "image/png": "[encoded data removed]"
          },
          "metadata": {}
        }
      ]
    }
  ]
}