{
  "nbformat": 4,
  "nbformat_minor": 0,
  "metadata": {
    "colab": {
      "provenance": []
    },
    "kernelspec": {
      "name": "python3",
      "display_name": "Python 3"
    },
    "language_info": {
      "name": "python"
    }
  },
  "cells": [
    {
      "cell_type": "code",
      "execution_count": null,
      "metadata": {
        "colab": {
          "base_uri": "https://localhost:8080/"
        },
        "id": "hCVP5juQjtrl",
        "outputId": "36acb41e-bf9a-4699-80bd-a2370cfd2b3d"
      },
      "outputs": [
        {
          "output_type": "stream",
          "name": "stdout",
          "text": [
            "Mounted at /content/drive\n"
          ]
        }
      ],
      "source": [
        "\n",
        "from google.colab import drive\n",
        "drive.mount('/content/drive')"
      ]
    },
    {
      "cell_type": "code",
      "source": [
        "\n",
        "import librosa\n",
        "import matplotlib.pyplot as plt\n",
        "import numpy as np\n",
        "import os\n",
        "import IPython.display as ipd\n",
        "import librosa.display\n",
        "import pandas as pd\n",
        "import seaborn as sns\n",
        "from sklearn.model_selection import train_test_split\n",
        "from sklearn.preprocessing import MinMaxScaler\n",
        "from sklearn.ensemble import ExtraTreesClassifier,RandomForestClassifier\n",
        "from sklearn.decomposition import PCA\n",
        "from sklearn.metrics import accuracy_score, precision_score, recall_score, f1_score, confusion_matrix,matthews_corrcoef,roc_auc_score,classification_report\n",
        "from sklearn.model_selection import GridSearchCV\n",
        "from xgboost import XGBClassifier\n",
        "from sklearn.discriminant_analysis import LinearDiscriminantAnalysis, QuadraticDiscriminantAnalysis\n"
      ],
      "metadata": {
        "id": "ECcjgtTYjwUW"
      },
      "execution_count": null,
      "outputs": []
    },
    {
      "cell_type": "code",
      "source": [
        "\n",
        "# directories\n",
        "real_male_dir = '/content/drive/My Drive/TMU MSC/MRP/AUDIO/REAL/male'\n",
        "fake_male_dir = '/content/drive/My Drive/TMU MSC/MRP/AUDIO/FAKE/male'\n",
        "\n",
        "# Function to load audio files and convert them to a consistent sample rate\n",
        "def load_audio_files(directory, sample_rate=22050):\n",
        "    audio_files = []\n",
        "    for filename in os.listdir(directory):\n",
        "        if filename.endswith('.wav'):\n",
        "            path = os.path.join(directory, filename)\n",
        "            audio, sr = librosa.load(path, sr=sample_rate)\n",
        "            audio_files.append(audio)\n",
        "    return audio_files\n",
        "\n",
        "real_male_audios = load_audio_files(real_male_dir)\n",
        "fake_male_audios = load_audio_files(fake_male_dir)"
      ],
      "metadata": {
        "id": "_hkzKj4tkBxH"
      },
      "execution_count": null,
      "outputs": []
    },
    {
      "cell_type": "code",
      "source": [
        "real_female_dir = '/content/drive/My Drive/TMU MSC/MRP/AUDIO/REAL/female'\n",
        "fake_female_dir = '/content/drive/My Drive/TMU MSC/MRP/AUDIO/FAKE/female'\n",
        "real_female_audios = load_audio_files(real_female_dir)\n",
        "fake_female_audios = load_audio_files(fake_female_dir)"
      ],
      "metadata": {
        "id": "lXBQtVz9kNoE"
      },
      "execution_count": null,
      "outputs": []
    },
    {
      "cell_type": "code",
      "source": [
        "# directories\n",
        "real_my_voice_dir = '/content/drive/My Drive/TMU MSC/MRP/AUDIO/REAL/my_voice_real'\n",
        "fake_my_voice_dir = '/content/drive/My Drive/TMU MSC/MRP/AUDIO/FAKE/my_fake_voice'"
      ],
      "metadata": {
        "id": "LaRgzV1ekem1"
      },
      "execution_count": null,
      "outputs": []
    },
    {
      "cell_type": "code",
      "source": [
        "my_real_audios = load_audio_files(real_my_voice_dir)\n",
        "my_fake_audios = load_audio_files(fake_my_voice_dir)"
      ],
      "metadata": {
        "id": "6FPV_asfkft2"
      },
      "execution_count": null,
      "outputs": []
    },
    {
      "cell_type": "code",
      "source": [
        "def slice_audio(audio, window_length=1, sr=22050):\n",
        "    # Window length = 1 sec\n",
        "    sample_length = window_length * sr\n",
        "    return [audio[i:i+sample_length] for i in range(0, len(audio), sample_length) if len(audio[i:i+sample_length]) == sample_length]\n",
        "\n",
        "# Slicing real and fake audio samples\n",
        "real_male_slices = [slice for audio in real_male_audios for slice in slice_audio(audio, window_length=1)]\n",
        "fake_male_slices = [slice for audio in fake_male_audios for slice in slice_audio(audio, window_length=1)]\n",
        "real_female_slices = [slice for audio in real_female_audios for slice in slice_audio(audio, window_length=1)]\n",
        "fake_female_slices = [slice for audio in fake_female_audios for slice in slice_audio(audio, window_length=1)]"
      ],
      "metadata": {
        "id": "XSa7_BI8lCl_"
      },
      "execution_count": null,
      "outputs": []
    },
    {
      "cell_type": "code",
      "source": [
        "real_my_slices = [slice for audio in my_real_audios for slice in slice_audio(audio, window_length=1)]\n",
        "fake_my_slices = [slice for audio in my_fake_audios for slice in slice_audio(audio, window_length=1)]"
      ],
      "metadata": {
        "id": "_xHNr5u1lAR2"
      },
      "execution_count": null,
      "outputs": []
    },
    {
      "cell_type": "code",
      "source": [
        "def time_shift(audio, shift_max, sr):\n",
        "    shift = np.random.randint(-shift_max, shift_max)\n",
        "    return np.roll(audio, shift)\n",
        "\n",
        "# Apply time shift\n",
        "real_augmented = [time_shift(audio, 1000, 22050) for audio in real_female_slices]"
      ],
      "metadata": {
        "id": "pl-mwok2lTtv"
      },
      "execution_count": null,
      "outputs": []
    },
    {
      "cell_type": "code",
      "source": [
        "real_augmented += [librosa.effects.pitch_shift(audio, sr=22050, n_steps=4) for audio in real_female_slices]"
      ],
      "metadata": {
        "id": "6Rk1HJMvlUtB"
      },
      "execution_count": null,
      "outputs": []
    },
    {
      "cell_type": "code",
      "source": [
        "real_augmented += [librosa.effects.time_stretch(audio,rate =  1.5) for audio in real_female_slices]"
      ],
      "metadata": {
        "id": "TFUu9meblYYh"
      },
      "execution_count": null,
      "outputs": []
    },
    {
      "cell_type": "code",
      "source": [
        "real_female = real_augmented + real_female_slices +real_my_slices\n",
        "fake_female =  fake_female_slices + fake_my_slices"
      ],
      "metadata": {
        "id": "GXYMyyJElbaK"
      },
      "execution_count": null,
      "outputs": []
    },
    {
      "cell_type": "code",
      "source": [
        "len(real_female),len(fake_female)\n"
      ],
      "metadata": {
        "colab": {
          "base_uri": "https://localhost:8080/"
        },
        "id": "ycvrLT4rlzpu",
        "outputId": "96e42e28-3c1e-4b83-8b5d-562df101d242"
      },
      "execution_count": null,
      "outputs": [
        {
          "output_type": "execute_result",
          "data": {
            "text/plain": [
              "(2742, 6857)"
            ]
          },
          "metadata": {},
          "execution_count": 14
        }
      ]
    },
    {
      "cell_type": "code",
      "source": [
        "plt.bar(['Real Male', 'Fake Male', 'Real Female', 'Fake Female'], [len(real_male_slices), len(fake_male_slices), len(real_female), len(fake_female)])"
      ],
      "metadata": {
        "colab": {
          "base_uri": "https://localhost:8080/",
          "height": 447
        },
        "id": "3xlPjUnil3OQ",
        "outputId": "19d07ede-b8a9-4dd0-c926-6abda0992b8e"
      },
      "execution_count": null,
      "outputs": [
        {
          "output_type": "execute_result",
          "data": {
            "text/plain": [
              "<BarContainer object of 4 artists>"
            ]
          },
          "metadata": {},
          "execution_count": 17
        },
        {
          "output_type": "display_data",
          "data": {
            "text/plain": [
              "<Figure size 640x480 with 1 Axes>"
            ],
            "image/png": "[encoded data removed]"
          },
          "metadata": {}
        }
      ]
    },
    {
      "cell_type": "code",
      "source": [
        "#feature extraction and dataframe creation\n",
        "sr = 22050\n",
        "def extract_audio_features(files):\n",
        "    features_list = []\n",
        "\n",
        "    # Iterate over all files\n",
        "    for y in files:\n",
        "        # Extract features\n",
        "        # Chromagram\n",
        "        chroma_stft = librosa.feature.chroma_stft(y=y, sr=sr).mean()\n",
        "\n",
        "        # Root Mean Square Energy\n",
        "        rms = librosa.feature.rms(y=y).mean()\n",
        "\n",
        "        # Spectral Centroid\n",
        "        spectral_centroid = librosa.feature.spectral_centroid(y=y, sr=sr).mean()\n",
        "\n",
        "        # Spectral Bandwidth\n",
        "        spectral_bandwidth = librosa.feature.spectral_bandwidth(y=y, sr=sr).mean()\n",
        "\n",
        "        # Spectral Rolloff\n",
        "        rolloff = librosa.feature.spectral_rolloff(y=y, sr=sr).mean()\n",
        "\n",
        "        # Zero Crossing Rate\n",
        "        zero_crossing_rate = librosa.feature.zero_crossing_rate(y).mean()\n",
        "\n",
        "        # Mel-Frequency Cepstral Coefficients (MFCCs)\n",
        "        mfccs = librosa.feature.mfcc(y=y, sr=sr, n_mfcc=20).mean(axis=1)\n",
        "\n",
        "        # Spectral Contrast\n",
        "        spectral_contrast = librosa.feature.spectral_contrast(y=y, sr=sr).mean()\n",
        "\n",
        "        # Concatenate features as values for dataframe\n",
        "        features = np.hstack((\n",
        "            chroma_stft, rms, spectral_centroid, spectral_bandwidth, rolloff, zero_crossing_rate,\n",
        "            mfccs, spectral_contrast\n",
        "        ))\n",
        "\n",
        "        features_list.append(features)\n",
        "\n",
        "    # Create  DataFrame\n",
        "    feature_names = [\n",
        "        'chroma_stft', 'rms', 'spectral_centroid', 'spectral_bandwidth', 'rolloff', 'zero_crossing_rate'\n",
        "    ] + [f'mfcc{i+1}' for i in range(mfccs.shape[0])] + ['spectral_contrast']\n",
        "\n",
        "    df = pd.DataFrame(features_list, columns=feature_names)\n",
        "\n",
        "    return df\n",
        "\n",
        "features__male_real = extract_audio_features(real_male_slices)\n",
        "features__male_fake = extract_audio_features(fake_male_slices)\n",
        "features__female_real = extract_audio_features(real_female)\n",
        "features__female_fake = extract_audio_features(fake_female)\n"
      ],
      "metadata": {
        "id": "i9qcJImhmPNL"
      },
      "execution_count": null,
      "outputs": []
    },
    {
      "cell_type": "code",
      "source": [
        "print(features__male_real.shape)\n",
        "print(features__male_fake.shape)\n",
        "print(features__female_real.shape)\n",
        "print(features__female_fake.shape)"
      ],
      "metadata": {
        "colab": {
          "base_uri": "https://localhost:8080/"
        },
        "id": "TvG-82CsmYd5",
        "outputId": "3f14192d-edff-4959-b4c8-446e1df158fb"
      },
      "execution_count": null,
      "outputs": [
        {
          "output_type": "stream",
          "name": "stdout",
          "text": [
            "(3063, 27)\n",
            "(19389, 27)\n",
            "(2742, 27)\n",
            "(6857, 27)\n"
          ]
        }
      ]
    },
    {
      "cell_type": "code",
      "source": [
        "features__female_real[\"gender\"] = 1\n",
        "features__female_fake[\"gender\"] =1\n",
        "features__male_real[\"gender\"] = 0\n",
        "features__male_fake[\"gender\"] =0\n",
        "features__female_real[\"label\"] = 0\n",
        "features__female_fake[\"label\"] =1\n",
        "features__male_real[\"label\"] = 0\n",
        "features__male_fake[\"label\"] =1\n",
        "final_df = pd.concat([features__female_real,features__female_fake,features__male_real,features__male_fake],axis=0)\n",
        "print(final_df.shape)"
      ],
      "metadata": {
        "colab": {
          "base_uri": "https://localhost:8080/"
        },
        "id": "EMyTnkrjmZeh",
        "outputId": "627f05b4-fdf7-4e6d-aec9-e468c4d55623"
      },
      "execution_count": null,
      "outputs": [
        {
          "output_type": "stream",
          "name": "stdout",
          "text": [
            "(32051, 29)\n"
          ]
        }
      ]
    },
    {
      "cell_type": "code",
      "source": [
        "final_df.label.value_counts()"
      ],
      "metadata": {
        "colab": {
          "base_uri": "https://localhost:8080/",
          "height": 178
        },
        "id": "pQpAu3wAmjaV",
        "outputId": "a90d0ceb-993c-4a25-b7dc-6dc0a9ccc8e5"
      },
      "execution_count": null,
      "outputs": [
        {
          "output_type": "execute_result",
          "data": {
            "text/plain": [
              "label\n",
              "1    26246\n",
              "0     5805\n",
              "Name: count, dtype: int64"
            ],
            "text/html": [
              "<table border=\"1\" class=\"dataframe\">\n",
              "  <thead>\n",
              "    <tr style=\"text-align: right;\">\n",
              "      <th></th>\n",
              "      <th>count</th>\n",
              "    </tr>\n",
              "    <tr>\n",
              "      <th>label</th>\n",
              "      <th></th>\n",
              "    </tr>\n",
              "  </thead>\n",
              "  <tbody>\n",
              "    <tr>\n",
              "      <th>1</th>\n",
              "      <td>26246</td>\n",
              "    </tr>\n",
              "    <tr>\n",
              "      <th>0</th>\n",
              "      <td>5805</td>\n",
              "    </tr>\n",
              "  </tbody>\n",
              "</table><br><label><b>dtype:</b> int64</label>"
            ]
          },
          "metadata": {},
          "execution_count": 21
        }
      ]
    },
    {
      "cell_type": "code",
      "source": [
        "final_df.gender.value_counts()"
      ],
      "metadata": {
        "colab": {
          "base_uri": "https://localhost:8080/",
          "height": 178
        },
        "id": "4A1CUcX9tc6i",
        "outputId": "11dc2acf-8ac3-4e02-b538-7a45e7238bb9"
      },
      "execution_count": null,
      "outputs": [
        {
          "output_type": "execute_result",
          "data": {
            "text/plain": [
              "gender\n",
              "0    22452\n",
              "1     9599\n",
              "Name: count, dtype: int64"
            ],
            "text/html": [
              "<table border=\"1\" class=\"dataframe\">\n",
              "  <thead>\n",
              "    <tr style=\"text-align: right;\">\n",
              "      <th></th>\n",
              "      <th>count</th>\n",
              "    </tr>\n",
              "    <tr>\n",
              "      <th>gender</th>\n",
              "      <th></th>\n",
              "    </tr>\n",
              "  </thead>\n",
              "  <tbody>\n",
              "    <tr>\n",
              "      <th>0</th>\n",
              "      <td>22452</td>\n",
              "    </tr>\n",
              "    <tr>\n",
              "      <th>1</th>\n",
              "      <td>9599</td>\n",
              "    </tr>\n",
              "  </tbody>\n",
              "</table><br><label><b>dtype:</b> int64</label>"
            ]
          },
          "metadata": {},
          "execution_count": 30
        }
      ]
    },
    {
      "cell_type": "code",
      "source": [
        "train_df, test_df = train_test_split(final_df, test_size=0.20, random_state=42)\n"
      ],
      "metadata": {
        "id": "6fWQnZsUmsZi"
      },
      "execution_count": null,
      "outputs": []
    },
    {
      "cell_type": "code",
      "source": [
        "test_df.gender.value_counts()"
      ],
      "metadata": {
        "colab": {
          "base_uri": "https://localhost:8080/",
          "height": 178
        },
        "id": "uaGn4MIZukit",
        "outputId": "5f20f66b-e533-4aec-b35e-871beeb39033"
      },
      "execution_count": null,
      "outputs": [
        {
          "output_type": "execute_result",
          "data": {
            "text/plain": [
              "gender\n",
              "0    4486\n",
              "1    1925\n",
              "Name: count, dtype: int64"
            ],
            "text/html": [
              "<table border=\"1\" class=\"dataframe\">\n",
              "  <thead>\n",
              "    <tr style=\"text-align: right;\">\n",
              "      <th></th>\n",
              "      <th>count</th>\n",
              "    </tr>\n",
              "    <tr>\n",
              "      <th>gender</th>\n",
              "      <th></th>\n",
              "    </tr>\n",
              "  </thead>\n",
              "  <tbody>\n",
              "    <tr>\n",
              "      <th>0</th>\n",
              "      <td>4486</td>\n",
              "    </tr>\n",
              "    <tr>\n",
              "      <th>1</th>\n",
              "      <td>1925</td>\n",
              "    </tr>\n",
              "  </tbody>\n",
              "</table><br><label><b>dtype:</b> int64</label>"
            ]
          },
          "metadata": {},
          "execution_count": 31
        }
      ]
    },
    {
      "cell_type": "code",
      "source": [
        "#splitting in to independent and dependent variables\n",
        "X = train_df.drop('label', axis=1)\n",
        "y = train_df['label']"
      ],
      "metadata": {
        "id": "0s-ibWnpmx-F"
      },
      "execution_count": null,
      "outputs": []
    },
    {
      "cell_type": "code",
      "source": [
        "X_test = test_df.drop(columns=['label'])\n",
        "y_test = test_df['label']"
      ],
      "metadata": {
        "id": "7Mek1GRlm2Tf"
      },
      "execution_count": null,
      "outputs": []
    },
    {
      "cell_type": "code",
      "source": [
        "random_forest = RandomForestClassifier(max_depth=None, n_estimators=200, random_state=42)\n",
        "xgboost = XGBClassifier(learning_rate=0.2, max_depth=10, n_estimators=200, random_state=42)\n",
        "lda = LinearDiscriminantAnalysis(solver='svd')\n",
        "qda = QuadraticDiscriminantAnalysis(reg_param=0.0)\n"
      ],
      "metadata": {
        "id": "owaRg8OfnCb0"
      },
      "execution_count": null,
      "outputs": []
    },
    {
      "cell_type": "code",
      "source": [
        "random_forest.fit(X, y)\n",
        "xgboost.fit(X, y)\n",
        "lda.fit(X, y)\n",
        "qda.fit(X, y)"
      ],
      "metadata": {
        "colab": {
          "base_uri": "https://localhost:8080/",
          "height": 75
        },
        "id": "ABBQSyECnHzf",
        "outputId": "0e9d9f62-f54a-4965-d9a5-cde5c5d55f4a"
      },
      "execution_count": null,
      "outputs": [
        {
          "output_type": "execute_result",
          "data": {
            "text/plain": [
              "QuadraticDiscriminantAnalysis()"
            ],
            "text/html": [
              "<style>#sk-container-id-1 {color: black;}#sk-container-id-1 pre{padding: 0;}#sk-container-id-1 div.sk-toggleable {background-color: white;}#sk-container-id-1 label.sk-toggleable__label {cursor: pointer;display: block;width: 100%;margin-bottom: 0;padding: 0.3em;box-sizing: border-box;text-align: center;}#sk-container-id-1 label.sk-toggleable__label-arrow:before {content: \"▸\";float: left;margin-right: 0.25em;color: #696969;}#sk-container-id-1 label.sk-toggleable__label-arrow:hover:before {color: black;}#sk-container-id-1 div.sk-estimator:hover label.sk-toggleable__label-arrow:before {color: black;}#sk-container-id-1 div.sk-toggleable__content {max-height: 0;max-width: 0;overflow: hidden;text-align: left;background-color: #f0f8ff;}#sk-container-id-1 div.sk-toggleable__content pre {margin: 0.2em;color: black;border-radius: 0.25em;background-color: #f0f8ff;}#sk-container-id-1 input.sk-toggleable__control:checked~div.sk-toggleable__content {max-height: 200px;max-width: 100%;overflow: auto;}#sk-container-id-1 input.sk-toggleable__control:checked~label.sk-toggleable__label-arrow:before {content: \"▾\";}#sk-container-id-1 div.sk-estimator input.sk-toggleable__control:checked~label.sk-toggleable__label {background-color: #d4ebff;}#sk-container-id-1 div.sk-label input.sk-toggleable__control:checked~label.sk-toggleable__label {background-color: #d4ebff;}#sk-container-id-1 input.sk-hidden--visually {border: 0;clip: rect(1px 1px 1px 1px);clip: rect(1px, 1px, 1px, 1px);height: 1px;margin: -1px;overflow: hidden;padding: 0;position: absolute;width: 1px;}#sk-container-id-1 div.sk-estimator {font-family: monospace;background-color: #f0f8ff;border: 1px dotted black;border-radius: 0.25em;box-sizing: border-box;margin-bottom: 0.5em;}#sk-container-id-1 div.sk-estimator:hover {background-color: #d4ebff;}#sk-container-id-1 div.sk-parallel-item::after {content: \"\";width: 100%;border-bottom: 1px solid gray;flex-grow: 1;}#sk-container-id-1 div.sk-label:hover label.sk-toggleable__label {background-color: #d4ebff;}#sk-container-id-1 div.sk-serial::before {content: \"\";position: absolute;border-left: 1px solid gray;box-sizing: border-box;top: 0;bottom: 0;left: 50%;z-index: 0;}#sk-container-id-1 div.sk-serial {display: flex;flex-direction: column;align-items: center;background-color: white;padding-right: 0.2em;padding-left: 0.2em;position: relative;}#sk-container-id-1 div.sk-item {position: relative;z-index: 1;}#sk-container-id-1 div.sk-parallel {display: flex;align-items: stretch;justify-content: center;background-color: white;position: relative;}#sk-container-id-1 div.sk-item::before, #sk-container-id-1 div.sk-parallel-item::before {content: \"\";position: absolute;border-left: 1px solid gray;box-sizing: border-box;top: 0;bottom: 0;left: 50%;z-index: -1;}#sk-container-id-1 div.sk-parallel-item {display: flex;flex-direction: column;z-index: 1;position: relative;background-color: white;}#sk-container-id-1 div.sk-parallel-item:first-child::after {align-self: flex-end;width: 50%;}#sk-container-id-1 div.sk-parallel-item:last-child::after {align-self: flex-start;width: 50%;}#sk-container-id-1 div.sk-parallel-item:only-child::after {width: 0;}#sk-container-id-1 div.sk-dashed-wrapped {border: 1px dashed gray;margin: 0 0.4em 0.5em 0.4em;box-sizing: border-box;padding-bottom: 0.4em;background-color: white;}#sk-container-id-1 div.sk-label label {font-family: monospace;font-weight: bold;display: inline-block;line-height: 1.2em;}#sk-container-id-1 div.sk-label-container {text-align: center;}#sk-container-id-1 div.sk-container {/* jupyter's `normalize.less` sets `[hidden] { display: none; }` but bootstrap.min.css set `[hidden] { display: none !important; }` so we also need the `!important` here to be able to override the default hidden behavior on the sphinx rendered scikit-learn.org. See: https://github.com/scikit-learn/scikit-learn/issues/21755 */display: inline-block !important;position: relative;}#sk-container-id-1 div.sk-text-repr-fallback {display: none;}</style><div id=\"sk-container-id-1\" class=\"sk-top-container\"><div class=\"sk-text-repr-fallback\"><pre>QuadraticDiscriminantAnalysis()</pre><b>In a Jupyter environment, please rerun this cell to show the HTML representation or trust the notebook. <br />On GitHub, the HTML representation is unable to render, please try loading this page with nbviewer.org.</b></div><div class=\"sk-container\" hidden><div class=\"sk-item\"><div class=\"sk-estimator sk-toggleable\"><input class=\"sk-toggleable__control sk-hidden--visually\" id=\"sk-estimator-id-1\" type=\"checkbox\" checked><label for=\"sk-estimator-id-1\" class=\"sk-toggleable__label sk-toggleable__label-arrow\">QuadraticDiscriminantAnalysis</label><div class=\"sk-toggleable__content\"><pre>QuadraticDiscriminantAnalysis()</pre></div></div></div></div></div>"
            ]
          },
          "metadata": {},
          "execution_count": 26
        }
      ]
    },
    {
      "cell_type": "code",
      "source": [
        "# Make predictions on test set\n",
        "y_test_pred_rf = random_forest.predict(X_test)\n",
        "y_test_pred_xgb = xgboost.predict(X_test)\n",
        "y_test_pred_lda = lda.predict(X_test)\n",
        "y_test_pred_qda = qda.predict(X_test)\n",
        "\n",
        "# Classification report for Random Forest\n",
        "print(\"Random Forest:\")\n",
        "print(classification_report(y_test, y_test_pred_rf))\n",
        "\n",
        "# Classification report for XGBoost\n",
        "print(\"XGBoost:\")\n",
        "print(classification_report(y_test, y_test_pred_xgb))\n",
        "\n",
        "# Classification report for LDA\n",
        "print(\"LDA:\")\n",
        "print(classification_report(y_test, y_test_pred_lda))\n",
        "\n",
        "# Classification report for QDA\n",
        "print(\"QDA:\")\n",
        "print(classification_report(y_test, y_test_pred_qda))"
      ],
      "metadata": {
        "colab": {
          "base_uri": "https://localhost:8080/"
        },
        "id": "rPBZcSd-nQWz",
        "outputId": "8da0ab41-1dde-4732-a726-0a85c954d28e"
      },
      "execution_count": null,
      "outputs": [
        {
          "output_type": "stream",
          "name": "stdout",
          "text": [
            "Random Forest:\n",
            "              precision    recall  f1-score   support\n",
            "\n",
            "           0       0.97      0.80      0.88      1133\n",
            "           1       0.96      1.00      0.98      5278\n",
            "\n",
            "    accuracy                           0.96      6411\n",
            "   macro avg       0.97      0.90      0.93      6411\n",
            "weighted avg       0.96      0.96      0.96      6411\n",
            "\n",
            "XGBoost:\n",
            "              precision    recall  f1-score   support\n",
            "\n",
            "           0       0.96      0.91      0.93      1133\n",
            "           1       0.98      0.99      0.99      5278\n",
            "\n",
            "    accuracy                           0.98      6411\n",
            "   macro avg       0.97      0.95      0.96      6411\n",
            "weighted avg       0.98      0.98      0.98      6411\n",
            "\n",
            "LDA:\n",
            "              precision    recall  f1-score   support\n",
            "\n",
            "           0       0.81      0.56      0.66      1133\n",
            "           1       0.91      0.97      0.94      5278\n",
            "\n",
            "    accuracy                           0.90      6411\n",
            "   macro avg       0.86      0.76      0.80      6411\n",
            "weighted avg       0.89      0.90      0.89      6411\n",
            "\n",
            "QDA:\n",
            "              precision    recall  f1-score   support\n",
            "\n",
            "           0       0.84      0.78      0.81      1133\n",
            "           1       0.95      0.97      0.96      5278\n",
            "\n",
            "    accuracy                           0.93      6411\n",
            "   macro avg       0.90      0.87      0.88      6411\n",
            "weighted avg       0.93      0.93      0.93      6411\n",
            "\n"
          ]
        }
      ]
    },
    {
      "cell_type": "code",
      "source": [
        "# Analyze misclassifications for each gender\n",
        "test_df['predicted_rf'] = y_test_pred_rf\n",
        "test_df['predicted_xgb'] = y_test_pred_xgb\n",
        "test_df['predicted_lda'] = y_test_pred_lda\n",
        "test_df['predicted_qda'] = y_test_pred_qda"
      ],
      "metadata": {
        "id": "pDKs71vxnRQb"
      },
      "execution_count": null,
      "outputs": []
    },
    {
      "cell_type": "code",
      "source": [
        "# Misclassified incidents\n",
        "misclassified_rf_test = test_df[test_df['label'] != test_df['predicted_rf']]\n",
        "misclassified_xgb_test = test_df[test_df['label'] != test_df['predicted_xgb']]\n",
        "misclassified_lda_test = test_df[test_df['label'] != test_df['predicted_lda']]\n",
        "misclassified_qda_test = test_df[test_df['label'] != test_df['predicted_qda']]\n",
        "\n",
        "# Count misclassifications by gender\n",
        "misclassified_by_gender_rf_test = misclassified_rf_test['gender'].value_counts()\n",
        "misclassified_by_gender_xgb_test = misclassified_xgb_test['gender'].value_counts()\n",
        "misclassified_by_gender_lda_test = misclassified_lda_test['gender'].value_counts()\n",
        "misclassified_by_gender_qda_test= misclassified_qda_test['gender'].value_counts()\n",
        "\n",
        "print(\"Misclassifications by Gender for Random Forest:\")\n",
        "print(misclassified_by_gender_rf_test)\n",
        "\n",
        "print(\"Misclassifications by Gender for XGBoost:\")\n",
        "print(misclassified_by_gender_xgb_test)\n",
        "\n",
        "print(\"Misclassifications by Gender for LDA:\")\n",
        "print(misclassified_by_gender_lda_test)\n",
        "\n",
        "print(\"Misclassifications by Gender for QDA:\")\n",
        "print(misclassified_by_gender_qda_test)"
      ],
      "metadata": {
        "colab": {
          "base_uri": "https://localhost:8080/"
        },
        "id": "TXGpuQPInVSN",
        "outputId": "c2cbdf96-97bf-428d-b31b-c26529b99c93"
      },
      "execution_count": null,
      "outputs": [
        {
          "output_type": "stream",
          "name": "stdout",
          "text": [
            "Misclassifications by Gender for Random Forest:\n",
            "gender\n",
            "0    205\n",
            "1     50\n",
            "Name: count, dtype: int64\n",
            "Misclassifications by Gender for XGBoost:\n",
            "gender\n",
            "0    108\n",
            "1     40\n",
            "Name: count, dtype: int64\n",
            "Misclassifications by Gender for LDA:\n",
            "gender\n",
            "0    467\n",
            "1    179\n",
            "Name: count, dtype: int64\n",
            "Misclassifications by Gender for QDA:\n",
            "gender\n",
            "0    298\n",
            "1    120\n",
            "Name: count, dtype: int64\n"
          ]
        }
      ]
    },
    {
      "cell_type": "code",
      "source": [
        "misclassified_by_gender_rf_test[1]"
      ],
      "metadata": {
        "colab": {
          "base_uri": "https://localhost:8080/"
        },
        "id": "wVPqlnFLqsjM",
        "outputId": "de20f578-5a57-4a2d-ad69-aa4a593970a8"
      },
      "execution_count": null,
      "outputs": [
        {
          "output_type": "execute_result",
          "data": {
            "text/plain": [
              "50"
            ]
          },
          "metadata": {},
          "execution_count": 48
        }
      ]
    },
    {
      "cell_type": "code",
      "source": [
        "rf_percentage_male =( misclassified_by_gender_rf_test[0]/ 4486)*100\n",
        "rf_percentage_female = (misclassified_by_gender_rf_test[1]/ 1925)*100\n",
        "xgboost_percentage_male = (misclassified_by_gender_xgb_test[0]/ 4486)*100\n",
        "xgboost_percentage_female = (misclassified_by_gender_xgb_test[1]/ 1925)*100\n",
        "lda_percentage_male = (misclassified_by_gender_lda_test[0]/ 4486)*100\n",
        "lda_percentage_female = (misclassified_by_gender_lda_test[1]/ 1925)*100\n",
        "qda_percentage_male = (misclassified_by_gender_qda_test[0]/ 4486)*100\n",
        "qda_percentage_female = (misclassified_by_gender_qda_test[1]/ 1925)*100\n",
        "df_misclassified_gender= pd.DataFrame({\n",
        "    'Gender': ['Male', 'Female'],\n",
        "    'Random Forest': [rf_percentage_male, rf_percentage_female],\n",
        "    'XGBoost': [xgboost_percentage_male, xgboost_percentage_female],\n",
        "    'LDA': [lda_percentage_male, lda_percentage_female],\n",
        "    'QDA': [qda_percentage_male, qda_percentage_female]\n",
        "})\n",
        "df_misclassified_gender"
      ],
      "metadata": {
        "colab": {
          "base_uri": "https://localhost:8080/",
          "height": 125
        },
        "id": "x6NySIl-uNdh",
        "outputId": "a24fd28f-92d4-4ad6-ca32-d3d817a04936"
      },
      "execution_count": null,
      "outputs": [
        {
          "output_type": "execute_result",
          "data": {
            "text/plain": [
              "   Gender  Random Forest   XGBoost        LDA       QDA\n",
              "0    Male       4.569773  2.407490  10.410165  6.642889\n",
              "1  Female       2.597403  2.077922   9.298701  6.233766"
            ],
            "text/html": [
              "\n",
              "  <div id=\"df-8d48aae9-bbba-444a-b561-d38248cb6373\" class=\"colab-df-container\">\n",
              "    <div>\n",
              "<style scoped>\n",
              "    .dataframe tbody tr th:only-of-type {\n",
              "        vertical-align: middle;\n",
              "    }\n",
              "\n",
              "    .dataframe tbody tr th {\n",
              "        vertical-align: top;\n",
              "    }\n",
              "\n",
              "    .dataframe thead th {\n",
              "        text-align: right;\n",
              "    }\n",
              "</style>\n",
              "<table border=\"1\" class=\"dataframe\">\n",
              "  <thead>\n",
              "    <tr style=\"text-align: right;\">\n",
              "      <th></th>\n",
              "      <th>Gender</th>\n",
              "      <th>Random Forest</th>\n",
              "      <th>XGBoost</th>\n",
              "      <th>LDA</th>\n",
              "      <th>QDA</th>\n",
              "    </tr>\n",
              "  </thead>\n",
              "  <tbody>\n",
              "    <tr>\n",
              "      <th>0</th>\n",
              "      <td>Male</td>\n",
              "      <td>4.569773</td>\n",
              "      <td>2.407490</td>\n",
              "      <td>10.410165</td>\n",
              "      <td>6.642889</td>\n",
              "    </tr>\n",
              "    <tr>\n",
              "      <th>1</th>\n",
              "      <td>Female</td>\n",
              "      <td>2.597403</td>\n",
              "      <td>2.077922</td>\n",
              "      <td>9.298701</td>\n",
              "      <td>6.233766</td>\n",
              "    </tr>\n",
              "  </tbody>\n",
              "</table>\n",
              "</div>\n",
              "    <div class=\"colab-df-buttons\">\n",
              "\n",
              "  <div class=\"colab-df-container\">\n",
              "    <button class=\"colab-df-convert\" onclick=\"convertToInteractive('df-8d48aae9-bbba-444a-b561-d38248cb6373')\"\n",
              "            title=\"Convert this dataframe to an interactive table.\"\n",
              "            style=\"display:none;\">\n",
              "\n",
              "  <svg xmlns=\"http://www.w3.org/2000/svg\" height=\"24px\" viewBox=\"0 -960 960 960\">\n",
              "    <path d=\"M120-120v-720h720v720H120Zm60-500h600v-160H180v160Zm220 220h160v-160H400v160Zm0 220h160v-160H400v160ZM180-400h160v-160H180v160Zm440 0h160v-160H620v160ZM180-180h160v-160H180v160Zm440 0h160v-160H620v160Z\"/>\n",
              "  </svg>\n",
              "    </button>\n",
              "\n",
              "  <style>\n",
              "    .colab-df-container {\n",
              "      display:flex;\n",
              "      gap: 12px;\n",
              "    }\n",
              "\n",
              "    .colab-df-convert {\n",
              "      background-color: #E8F0FE;\n",
              "      border: none;\n",
              "      border-radius: 50%;\n",
              "      cursor: pointer;\n",
              "      display: none;\n",
              "      fill: #1967D2;\n",
              "      height: 32px;\n",
              "      padding: 0 0 0 0;\n",
              "      width: 32px;\n",
              "    }\n",
              "\n",
              "    .colab-df-convert:hover {\n",
              "      background-color: #E2EBFA;\n",
              "      box-shadow: 0px 1px 2px rgba(60, 64, 67, 0.3), 0px 1px 3px 1px rgba(60, 64, 67, 0.15);\n",
              "      fill: #174EA6;\n",
              "    }\n",
              "\n",
              "    .colab-df-buttons div {\n",
              "      margin-bottom: 4px;\n",
              "    }\n",
              "\n",
              "    [theme=dark] .colab-df-convert {\n",
              "      background-color: #3B4455;\n",
              "      fill: #D2E3FC;\n",
              "    }\n",
              "\n",
              "    [theme=dark] .colab-df-convert:hover {\n",
              "      background-color: #434B5C;\n",
              "      box-shadow: 0px 1px 3px 1px rgba(0, 0, 0, 0.15);\n",
              "      filter: drop-shadow(0px 1px 2px rgba(0, 0, 0, 0.3));\n",
              "      fill: #FFFFFF;\n",
              "    }\n",
              "  </style>\n",
              "\n",
              "    <script>\n",
              "      const buttonEl =\n",
              "        document.querySelector('#df-8d48aae9-bbba-444a-b561-d38248cb6373 button.colab-df-convert');\n",
              "      buttonEl.style.display =\n",
              "        google.colab.kernel.accessAllowed ? 'block' : 'none';\n",
              "\n",
              "      async function convertToInteractive(key) {\n",
              "        const element = document.querySelector('#df-8d48aae9-bbba-444a-b561-d38248cb6373');\n",
              "        const dataTable =\n",
              "          await google.colab.kernel.invokeFunction('convertToInteractive',\n",
              "                                                    [key], {});\n",
              "        if (!dataTable) return;\n",
              "\n",
              "        const docLinkHtml = 'Like what you see? Visit the ' +\n",
              "          '<a target=\"_blank\" href=https://colab.research.google.com/notebooks/data_table.ipynb>data table notebook</a>'\n",
              "          + ' to learn more about interactive tables.';\n",
              "        element.innerHTML = '';\n",
              "        dataTable['output_type'] = 'display_data';\n",
              "        await google.colab.output.renderOutput(dataTable, element);\n",
              "        const docLink = document.createElement('div');\n",
              "        docLink.innerHTML = docLinkHtml;\n",
              "        element.appendChild(docLink);\n",
              "      }\n",
              "    </script>\n",
              "  </div>\n",
              "\n",
              "\n",
              "<div id=\"df-3f30de8a-fcde-4332-86c2-0bca3a9914e7\">\n",
              "  <button class=\"colab-df-quickchart\" onclick=\"quickchart('df-3f30de8a-fcde-4332-86c2-0bca3a9914e7')\"\n",
              "            title=\"Suggest charts\"\n",
              "            style=\"display:none;\">\n",
              "\n",
              "<svg xmlns=\"http://www.w3.org/2000/svg\" height=\"24px\"viewBox=\"0 0 24 24\"\n",
              "     width=\"24px\">\n",
              "    <g>\n",
              "        <path d=\"M19 3H5c-1.1 0-2 .9-2 2v14c0 1.1.9 2 2 2h14c1.1 0 2-.9 2-2V5c0-1.1-.9-2-2-2zM9 17H7v-7h2v7zm4 0h-2V7h2v10zm4 0h-2v-4h2v4z\"/>\n",
              "    </g>\n",
              "</svg>\n",
              "  </button>\n",
              "\n",
              "<style>\n",
              "  .colab-df-quickchart {\n",
              "      --bg-color: #E8F0FE;\n",
              "      --fill-color: #1967D2;\n",
              "      --hover-bg-color: #E2EBFA;\n",
              "      --hover-fill-color: #174EA6;\n",
              "      --disabled-fill-color: #AAA;\n",
              "      --disabled-bg-color: #DDD;\n",
              "  }\n",
              "\n",
              "  [theme=dark] .colab-df-quickchart {\n",
              "      --bg-color: #3B4455;\n",
              "      --fill-color: #D2E3FC;\n",
              "      --hover-bg-color: #434B5C;\n",
              "      --hover-fill-color: #FFFFFF;\n",
              "      --disabled-bg-color: #3B4455;\n",
              "      --disabled-fill-color: #666;\n",
              "  }\n",
              "\n",
              "  .colab-df-quickchart {\n",
              "    background-color: var(--bg-color);\n",
              "    border: none;\n",
              "    border-radius: 50%;\n",
              "    cursor: pointer;\n",
              "    display: none;\n",
              "    fill: var(--fill-color);\n",
              "    height: 32px;\n",
              "    padding: 0;\n",
              "    width: 32px;\n",
              "  }\n",
              "\n",
              "  .colab-df-quickchart:hover {\n",
              "    background-color: var(--hover-bg-color);\n",
              "    box-shadow: 0 1px 2px rgba(60, 64, 67, 0.3), 0 1px 3px 1px rgba(60, 64, 67, 0.15);\n",
              "    fill: var(--button-hover-fill-color);\n",
              "  }\n",
              "\n",
              "  .colab-df-quickchart-complete:disabled,\n",
              "  .colab-df-quickchart-complete:disabled:hover {\n",
              "    background-color: var(--disabled-bg-color);\n",
              "    fill: var(--disabled-fill-color);\n",
              "    box-shadow: none;\n",
              "  }\n",
              "\n",
              "  .colab-df-spinner {\n",
              "    border: 2px solid var(--fill-color);\n",
              "    border-color: transparent;\n",
              "    border-bottom-color: var(--fill-color);\n",
              "    animation:\n",
              "      spin 1s steps(1) infinite;\n",
              "  }\n",
              "\n",
              "  @keyframes spin {\n",
              "    0% {\n",
              "      border-color: transparent;\n",
              "      border-bottom-color: var(--fill-color);\n",
              "      border-left-color: var(--fill-color);\n",
              "    }\n",
              "    20% {\n",
              "      border-color: transparent;\n",
              "      border-left-color: var(--fill-color);\n",
              "      border-top-color: var(--fill-color);\n",
              "    }\n",
              "    30% {\n",
              "      border-color: transparent;\n",
              "      border-left-color: var(--fill-color);\n",
              "      border-top-color: var(--fill-color);\n",
              "      border-right-color: var(--fill-color);\n",
              "    }\n",
              "    40% {\n",
              "      border-color: transparent;\n",
              "      border-right-color: var(--fill-color);\n",
              "      border-top-color: var(--fill-color);\n",
              "    }\n",
              "    60% {\n",
              "      border-color: transparent;\n",
              "      border-right-color: var(--fill-color);\n",
              "    }\n",
              "    80% {\n",
              "      border-color: transparent;\n",
              "      border-right-color: var(--fill-color);\n",
              "      border-bottom-color: var(--fill-color);\n",
              "    }\n",
              "    90% {\n",
              "      border-color: transparent;\n",
              "      border-bottom-color: var(--fill-color);\n",
              "    }\n",
              "  }\n",
              "</style>\n",
              "\n",
              "  <script>\n",
              "    async function quickchart(key) {\n",
              "      const quickchartButtonEl =\n",
              "        document.querySelector('#' + key + ' button');\n",
              "      quickchartButtonEl.disabled = true;  // To prevent multiple clicks.\n",
              "      quickchartButtonEl.classList.add('colab-df-spinner');\n",
              "      try {\n",
              "        const charts = await google.colab.kernel.invokeFunction(\n",
              "            'suggestCharts', [key], {});\n",
              "      } catch (error) {\n",
              "        console.error('Error during call to suggestCharts:', error);\n",
              "      }\n",
              "      quickchartButtonEl.classList.remove('colab-df-spinner');\n",
              "      quickchartButtonEl.classList.add('colab-df-quickchart-complete');\n",
              "    }\n",
              "    (() => {\n",
              "      let quickchartButtonEl =\n",
              "        document.querySelector('#df-3f30de8a-fcde-4332-86c2-0bca3a9914e7 button');\n",
              "      quickchartButtonEl.style.display =\n",
              "        google.colab.kernel.accessAllowed ? 'block' : 'none';\n",
              "    })();\n",
              "  </script>\n",
              "</div>\n",
              "\n",
              "  <div id=\"id_1b6fedf7-2efa-4904-ae30-90ff5e8fde96\">\n",
              "    <style>\n",
              "      .colab-df-generate {\n",
              "        background-color: #E8F0FE;\n",
              "        border: none;\n",
              "        border-radius: 50%;\n",
              "        cursor: pointer;\n",
              "        display: none;\n",
              "        fill: #1967D2;\n",
              "        height: 32px;\n",
              "        padding: 0 0 0 0;\n",
              "        width: 32px;\n",
              "      }\n",
              "\n",
              "      .colab-df-generate:hover {\n",
              "        background-color: #E2EBFA;\n",
              "        box-shadow: 0px 1px 2px rgba(60, 64, 67, 0.3), 0px 1px 3px 1px rgba(60, 64, 67, 0.15);\n",
              "        fill: #174EA6;\n",
              "      }\n",
              "\n",
              "      [theme=dark] .colab-df-generate {\n",
              "        background-color: #3B4455;\n",
              "        fill: #D2E3FC;\n",
              "      }\n",
              "\n",
              "      [theme=dark] .colab-df-generate:hover {\n",
              "        background-color: #434B5C;\n",
              "        box-shadow: 0px 1px 3px 1px rgba(0, 0, 0, 0.15);\n",
              "        filter: drop-shadow(0px 1px 2px rgba(0, 0, 0, 0.3));\n",
              "        fill: #FFFFFF;\n",
              "      }\n",
              "    </style>\n",
              "    <button class=\"colab-df-generate\" onclick=\"generateWithVariable('df_misclassified_gender')\"\n",
              "            title=\"Generate code using this dataframe.\"\n",
              "            style=\"display:none;\">\n",
              "\n",
              "  <svg xmlns=\"http://www.w3.org/2000/svg\" height=\"24px\"viewBox=\"0 0 24 24\"\n",
              "       width=\"24px\">\n",
              "    <path d=\"M7,19H8.4L18.45,9,17,7.55,7,17.6ZM5,21V16.75L18.45,3.32a2,2,0,0,1,2.83,0l1.4,1.43a1.91,1.91,0,0,1,.58,1.4,1.91,1.91,0,0,1-.58,1.4L9.25,21ZM18.45,9,17,7.55Zm-12,3A5.31,5.31,0,0,0,4.9,8.1,5.31,5.31,0,0,0,1,6.5,5.31,5.31,0,0,0,4.9,4.9,5.31,5.31,0,0,0,6.5,1,5.31,5.31,0,0,0,8.1,4.9,5.31,5.31,0,0,0,12,6.5,5.46,5.46,0,0,0,6.5,12Z\"/>\n",
              "  </svg>\n",
              "    </button>\n",
              "    <script>\n",
              "      (() => {\n",
              "      const buttonEl =\n",
              "        document.querySelector('#id_1b6fedf7-2efa-4904-ae30-90ff5e8fde96 button.colab-df-generate');\n",
              "      buttonEl.style.display =\n",
              "        google.colab.kernel.accessAllowed ? 'block' : 'none';\n",
              "\n",
              "      buttonEl.onclick = () => {\n",
              "        google.colab.notebook.generateWithVariable('df_misclassified_gender');\n",
              "      }\n",
              "      })();\n",
              "    </script>\n",
              "  </div>\n",
              "\n",
              "    </div>\n",
              "  </div>\n"
            ],
            "application/vnd.google.colaboratory.intrinsic+json": {
              "type": "dataframe",
              "variable_name": "df_misclassified_gender",
              "summary": "{\n  \"name\": \"df_misclassified_gender\",\n  \"rows\": 2,\n  \"fields\": [\n    {\n      \"column\": \"Gender\",\n      \"properties\": {\n        \"dtype\": \"string\",\n        \"num_unique_values\": 2,\n        \"samples\": [\n          \"Female\",\n          \"Male\"\n        ],\n        \"semantic_type\": \"\",\n        \"description\": \"\"\n      }\n    },\n    {\n      \"column\": \"Random Forest\",\n      \"properties\": {\n        \"dtype\": \"number\",\n        \"std\": 1.394676222193128,\n        \"min\": 2.5974025974025974,\n        \"max\": 4.569772625947391,\n        \"num_unique_values\": 2,\n        \"samples\": [\n          2.5974025974025974,\n          4.569772625947391\n        ],\n        \"semantic_type\": \"\",\n        \"description\": \"\"\n      }\n    },\n    {\n      \"column\": \"XGBoost\",\n      \"properties\": {\n        \"dtype\": \"number\",\n        \"std\": 0.23303969049532625,\n        \"min\": 2.0779220779220777,\n        \"max\": 2.4074899687917966,\n        \"num_unique_values\": 2,\n        \"samples\": [\n          2.0779220779220777,\n          2.4074899687917966\n        ],\n        \"semantic_type\": \"\",\n        \"description\": \"\"\n      }\n    },\n    {\n      \"column\": \"LDA\",\n      \"properties\": {\n        \"dtype\": \"number\",\n        \"std\": 0.7859234902822159,\n        \"min\": 9.2987012987013,\n        \"max\": 10.410164957646009,\n        \"num_unique_values\": 2,\n        \"samples\": [\n          9.2987012987013,\n          10.410164957646009\n        ],\n        \"semantic_type\": \"\",\n        \"description\": \"\"\n      }\n    },\n    {\n      \"column\": \"QDA\",\n      \"properties\": {\n        \"dtype\": \"number\",\n        \"std\": 0.28929347382993215,\n        \"min\": 6.233766233766234,\n        \"max\": 6.64288898796255,\n        \"num_unique_values\": 2,\n        \"samples\": [\n          6.233766233766234,\n          6.64288898796255\n        ],\n        \"semantic_type\": \"\",\n        \"description\": \"\"\n      }\n    }\n  ]\n}"
            }
          },
          "metadata": {},
          "execution_count": 49
        }
      ]
    },
    {
      "cell_type": "code",
      "source": [
        "df_misclassified_gender.plot(x='Gender', kind='bar')\n",
        "#"
      ],
      "metadata": {
        "colab": {
          "base_uri": "https://localhost:8080/",
          "height": 503
        },
        "id": "xvfX4EVmxHFU",
        "outputId": "c504d164-4579-41e2-c57f-a995ddfa13d9"
      },
      "execution_count": null,
      "outputs": [
        {
          "output_type": "execute_result",
          "data": {
            "text/plain": [
              "<Axes: xlabel='Gender'>"
            ]
          },
          "metadata": {},
          "execution_count": 50
        },
        {
          "output_type": "display_data",
          "data": {
            "text/plain": [
              "<Figure size 640x480 with 1 Axes>"
            ],
            "image/png": "[encoded data removed]"
          },
          "metadata": {}
        }
      ]
    }
  ]
}